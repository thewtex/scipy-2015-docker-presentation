{
 "metadata": {
  "kernelspec": {
   "codemirror_mode": {
    "name": "ipython",
    "version": 2
   },
   "display_name": "IPython (Python 2)",
   "language": "python",
   "name": "python2"
  },
  "name": "",
  "signature": "sha256:0f954a027dd3110c22188ba443d9cf97d5e5abe2aaf0af4fca3b8b1888595143"
 },
 "nbformat": 3,
 "nbformat_minor": 0,
 "worksheets": [
  {
   "cells": [
    {
     "cell_type": "markdown",
     "metadata": {
      "internals": {
       "slide_type": "subslide"
      },
      "slideshow": {
       "slide_type": "slide"
      }
     },
     "source": [
      "# Docker for Improved Reproducibility of Scientific Python Analyses\n",
      "\n",
      "#### Matt McCormick, Kitware, Inc\n",
      "#### SciPy 2015\n",
      "#### 2015-07-10"
     ]
    },
    {
     "cell_type": "code",
     "collapsed": false,
     "input": [
      "#Imports for running this presentation live\n",
      "\n",
      "from IPython.html.widgets import interact, interactive\n",
      "from IPython.display import clear_output, display, HTML\n",
      "\n",
      "import numpy as np\n",
      "from scipy import integrate\n",
      "\n",
      "from matplotlib import pyplot as plt\n",
      "from mpl_toolkits.mplot3d import Axes3D\n",
      "from matplotlib.colors import cnames\n",
      "from matplotlib import animation\n",
      "\n",
      "%matplotlib inline"
     ],
     "language": "python",
     "metadata": {
      "internals": {
       "slide_helper": "subslide_end"
      },
      "slide_helper": "slide_end",
      "slideshow": {
       "slide_type": "skip"
      }
     },
     "outputs": [],
     "prompt_number": 1
    },
    {
     "cell_type": "heading",
     "level": 1,
     "metadata": {
      "internals": {
       "slide_helper": "subslide_end",
       "slide_type": "subslide"
      },
      "slide_helper": "subslide_end",
      "slideshow": {
       "slide_type": "slide"
      }
     },
     "source": [
      "The Problem"
     ]
    },
    {
     "cell_type": "markdown",
     "metadata": {
      "internals": {
       "slide_helper": "subslide_end",
       "slide_type": "subslide"
      },
      "slide_helper": "subslide_end",
      "slideshow": {
       "slide_type": "subslide"
      }
     },
     "source": [
      "Even though computers are often considered deterministic, **computational software is a rapidly evolving and changing landscape**. Libraries are constantly adding new features and fixing issues. \n",
      "\n",
      "<img src=\"images/PythonStoryline.svg\" width=700>\n",
      "\n",
      "Image source: http://www.michaelogawa.com/research/storylines/"
     ]
    },
    {
     "cell_type": "markdown",
     "metadata": {
      "internals": {
       "slide_helper": "subslide_end",
       "slide_type": "subslide"
      },
      "slide_helper": "subslide_end",
      "slideshow": {
       "slide_type": "subslide"
      }
     },
     "source": [
      "Even libraries with the strictest backwards-compatibility policies can **change in significant ways**.\n",
      "<img src=\"images/BackwardsCompatibility.png\" width=\"600px\">\n",
      "\n",
      "Image source: http://www.bonkersworld.net/backwards-compatibility/"
     ]
    },
    {
     "cell_type": "markdown",
     "metadata": {
      "internals": {
       "slide_helper": "subslide_end",
       "slide_type": "subslide"
      },
      "slide_helper": "subslide_end",
      "slideshow": {
       "slide_type": "subslide"
      }
     },
     "source": [
      "A **reproducible computational environment** has a *sufficiently consistent state for the computational task at hand*.\n",
      "\n",
      "For example, this can consist of\n",
      "\n",
      "- a CPython interpretor with a specific version built with\n",
      "  - a specific version of a given compiler\n",
      "  - a specific version of a libc implementation\n",
      "- packages dependencies with specific versions\n",
      "- C extension modules built against specific libraries\n",
      "- other libraries and executables available with a specific version and configuration options"
     ]
    },
    {
     "cell_type": "heading",
     "level": 2,
     "metadata": {
      "internals": {
       "slide_helper": "subslide_end",
       "slide_type": "subslide"
      },
      "slide_helper": "subslide_end",
      "slideshow": {
       "slide_type": "subslide"
      }
     },
     "source": [
      "Close But Not Good Enough"
     ]
    },
    {
     "cell_type": "markdown",
     "metadata": {
      "internals": {
       "slide_type": "subslide"
      },
      "slideshow": {
       "slide_type": "subslide"
      }
     },
     "source": [
      "### Source code\n",
      "\n",
      "Does not include:\n",
      "\n",
      "- Python interpretor\n",
      "- How it is configured\n",
      "- Package dependencies\n",
      "- Run-time environment\n",
      "- How to run it"
     ]
    },
    {
     "cell_type": "markdown",
     "metadata": {
      "internals": {
       "frag_number": 8,
       "slide_helper": "subslide_end"
      },
      "slide_helper": "subslide_end",
      "slideshow": {
       "slide_type": "fragment"
      }
     },
     "source": [
      "<img src=\"images/ConfusedCat.jpg\" width=\"400px\">\n",
      "\n",
      "Image source: https://www.youtube.com/watch?v=g1LgVfV5_ZQ\n"
     ]
    },
    {
     "cell_type": "markdown",
     "metadata": {
      "internals": {
       "frag_helper": "fragment_end",
       "frag_number": 8,
       "slide_helper": "subslide_end",
       "slide_type": "subslide"
      },
      "slide_helper": "subslide_end",
      "slideshow": {
       "slide_type": "subslide"
      }
     },
     "source": [
      "### Package managers and distributions\n",
      "\n",
      "- There is not a consensus on *the* package manager\n",
      "- Packages become unsupported over time\n",
      "- What to do if a required library is not packaged?"
     ]
    },
    {
     "cell_type": "markdown",
     "metadata": {
      "internals": {
       "frag_helper": "fragment_end",
       "frag_number": 8,
       "slide_helper": "subslide_end",
       "slide_type": "subslide"
      },
      "slide_helper": "subslide_end",
      "slideshow": {
       "slide_type": "subslide"
      }
     },
     "source": [
      "### Virtual machines (VMs)\n",
      "\n",
      "- Inefficient utilization of computational resources\n",
      "\n",
      "<img src=\"images/CarJam.jpg\">\n",
      "\n",
      "Image source: http://time-az.com/images/2014/02/20140203carjam.jpg"
     ]
    },
    {
     "cell_type": "markdown",
     "metadata": {
      "internals": {
       "frag_helper": "fragment_end",
       "frag_number": 8,
       "slide_type": "subslide"
      },
      "slideshow": {
       "slide_type": "subslide"
      }
     },
     "source": [
      "# Enter Linux Containers\n",
      "\n",
      "![Docker logo](images/DockerLogo.png)\n",
      "\n",
      "[Linux container systems](http://www.google.com/url?q=http%3A%2F%2Fwww.infoworld.com%2Farticle%2F2938638%2Fapplication-virtualization%2Fdocker-donates-its-container-specs-for-opc-open-standard.html&sa=D&sntz=1&usg=AFQjCNGrI-KxvoAN_waSazod5U1sPo0sVw) , like Docker, are new type of tool to easily build, ship, and run reproducible, binary applications.  \n",
      "\n",
      "It is \"good enough\" for a reproducible computational environment.\n",
      "\n",
      "In this talk, we will introduce Docker from the perspective a scientific research software engineer.  We will\n"
     ]
    },
    {
     "cell_type": "markdown",
     "metadata": {
      "internals": {
       "frag_helper": "fragment_end",
       "frag_number": 12
      },
      "slideshow": {
       "slide_type": "fragment"
      }
     },
     "source": [
      "- Generate an understanding of what Docker is by comparing it to existing technologies."
     ]
    },
    {
     "cell_type": "markdown",
     "metadata": {
      "internals": {
       "frag_helper": "fragment_end",
       "frag_number": 13
      },
      "slideshow": {
       "slide_type": "fragment"
      }
     },
     "source": [
      "- Give an introduction to basic Docker concepts."
     ]
    },
    {
     "cell_type": "markdown",
     "metadata": {
      "internals": {
       "frag_helper": "fragment_end",
       "frag_number": 14,
       "slide_helper": "subslide_end"
      },
      "slide_helper": "slide_end",
      "slideshow": {
       "slide_type": "fragment"
      }
     },
     "source": [
      "- Describe how Docker fits into the scientific Python analysis workflow."
     ]
    },
    {
     "cell_type": "markdown",
     "metadata": {
      "internals": {
       "frag_helper": "fragment_end",
       "frag_number": 14,
       "slide_helper": "subslide_end",
       "slide_type": "subslide"
      },
      "slide_helper": "subslide_end",
      "slideshow": {
       "slide_type": "slide"
      }
     },
     "source": [
      "# Understanding Docker\n",
      "\n",
      "### Not just this cute whale thing"
     ]
    },
    {
     "cell_type": "markdown",
     "metadata": {
      "internals": {
       "frag_helper": "fragment_end",
       "frag_number": 14,
       "slide_type": "subslide"
      },
      "slideshow": {
       "slide_type": "subslide"
      }
     },
     "source": [
      "Docker is an open-source engine that automates the deployment of any application as a **lightweight**, **portable**, **self-sufficient container** that will run virtually anywhere.\n",
      "\n",
      "\n"
     ]
    },
    {
     "cell_type": "code",
     "collapsed": false,
     "input": [
      "!docker run --rm busybox sh -c 'echo \"Hello Docker World!\"'"
     ],
     "language": "python",
     "metadata": {
      "internals": {
       "frag_helper": "fragment_end",
       "frag_number": 14,
       "slide_helper": "subslide_end"
      },
      "slide_helper": "subslide_end",
      "slideshow": {
       "slide_type": "skip"
      }
     },
     "outputs": [
      {
       "output_type": "stream",
       "stream": "stdout",
       "text": [
        "Hello Docker World!\r\n"
       ]
      }
     ],
     "prompt_number": 2
    },
    {
     "cell_type": "markdown",
     "metadata": {
      "internals": {
       "frag_helper": "fragment_end",
       "frag_number": 14,
       "slide_helper": "subslide_end",
       "slide_type": "subslide"
      },
      "slide_helper": "subslide_end",
      "slideshow": {
       "slide_type": "subslide"
      }
     },
     "source": [
      "###Docker is a combination of a:\n",
      "\n",
      "1. **Sandboxed chroot**\n",
      "2. **Copy on write filesystem**\n",
      "3. **Distributed VCS for binaries**"
     ]
    },
    {
     "cell_type": "markdown",
     "metadata": {
      "internals": {
       "frag_helper": "fragment_end",
       "frag_number": 14,
       "slide_helper": "subslide_end",
       "slide_type": "subslide"
      },
      "slide_helper": "subslide_end",
      "slideshow": {
       "slide_type": "subslide"
      }
     },
     "source": [
      "##Sandboxed chroot"
     ]
    },
    {
     "cell_type": "markdown",
     "metadata": {
      "internals": {
       "frag_helper": "fragment_end",
       "frag_number": 14,
       "slide_helper": "subslide_end",
       "slide_type": "subslide"
      },
      "slide_helper": "subslide_end",
      "slideshow": {
       "slide_type": "subslide"
      }
     },
     "source": [
      "Docker works with images that **consume minimal disk space**, **versioned**, **archiveable**, and **shareable**. Executing applications in these images does not require dedicated resources and is **high performance**.\n",
      "\n",
      "It works with **containers** as opposed to **virtual machines** (VM's).\n",
      "\n",
      "<img src=\"images/DockerVM.jpg\" width=\"600\">"
     ]
    },
    {
     "cell_type": "code",
     "collapsed": false,
     "input": [
      "%time !docker run --rm busybox sh -c 'echo \"Hello Docker World!\"'"
     ],
     "language": "python",
     "metadata": {
      "internals": {
       "frag_helper": "fragment_end",
       "frag_number": 14,
       "slide_type": "subslide"
      },
      "slideshow": {
       "slide_type": "subslide"
      }
     },
     "outputs": [
      {
       "output_type": "stream",
       "stream": "stdout",
       "text": [
        "Hello Docker World!\n",
        "CPU times: user 4 ms, sys: 4 ms, total: 8 ms\n",
        "Wall time: 1.23 s\n"
       ]
      }
     ],
     "prompt_number": 2
    },
    {
     "cell_type": "markdown",
     "metadata": {
      "internals": {
       "frag_helper": "fragment_end",
       "frag_number": 14,
       "slide_helper": "subslide_end"
      },
      "slide_helper": "subslide_end",
      "slideshow": {
       "slide_type": "skip"
      }
     },
     "source": [
      "A Docker container is similar to a running an application in a *chroot*, but it sandboxes processes and the network stack with Linux kernel:\n",
      "\n",
      "* **Namespaces**: isolated processes, networking, messaging, file systems, hostname's\n",
      "* **CGroups**: groups together cpu, memory, and IO resources\n",
      "\n",
      "<img src=\"images/Chroot.png\" width=\"600px\">"
     ]
    },
    {
     "cell_type": "markdown",
     "metadata": {
      "internals": {
       "frag_helper": "fragment_end",
       "frag_number": 14,
       "slide_helper": "subslide_end",
       "slide_type": "subslide"
      },
      "slide_helper": "subslide_end",
      "slideshow": {
       "slide_type": "subslide"
      }
     },
     "source": [
      "##Copy on Write Filesystem\n",
      "\n",
      "**Union file systems**, or UnionFS, are file systems that operate by **creating layers**, making them very **lightweight** and **fast** while **saving disk space**.\n",
      "\n",
      "Docker can make use of several union file system variants including: \n",
      "\n",
      "- AUFS\n",
      "- btrfs\n",
      "- vfs\n",
      "- DeviceMapper\n",
      "\n",
      "<table border=\"0\">\n",
      "<tr>\n",
      "<th><img src=\"images/LayerCake.jpg\" width=\"300px\"></th>\n",
      "<th><img src=\"images/DockerFilesystems.svg\" width=\"400px\"></th>\n",
      "</tr>\n",
      "</table>\n"
     ]
    },
    {
     "cell_type": "markdown",
     "metadata": {
      "internals": {
       "frag_helper": "fragment_end",
       "frag_number": 14,
       "slide_type": "subslide"
      },
      "slideshow": {
       "slide_type": "subslide"
      }
     },
     "source": [
      "##Distributed VCS for binaries\n",
      "\n",
      "### Docker is like Git for binaries\n",
      "\n"
     ]
    },
    {
     "cell_type": "code",
     "collapsed": false,
     "input": [
      "!docker search itk"
     ],
     "language": "python",
     "metadata": {
      "internals": {
       "frag_helper": "fragment_end",
       "frag_number": 14
      },
      "slideshow": {
       "slide_type": "notes"
      }
     },
     "outputs": []
    },
    {
     "cell_type": "markdown",
     "metadata": {
      "internals": {
       "frag_helper": "fragment_end",
       "frag_number": 26
      },
      "slideshow": {
       "slide_type": "fragment"
      }
     },
     "source": [
      "- Docker images are identified with hex string or tags\n",
      "- Interface is `docker <subcommand>`\n",
      "- `docker push`, `docker pull`, `docker tag`\n",
      "- `docker export` will create a archiveable tarball of an image's filesystem.\n",
      "- DockerHub is like GitHub"
     ]
    },
    {
     "cell_type": "markdown",
     "metadata": {
      "internals": {
       "frag_helper": "fragment_end",
       "frag_number": 27,
       "slide_helper": "subslide_end"
      },
      "slide_helper": "slide_end",
      "slideshow": {
       "slide_type": "fragment"
      }
     },
     "source": [
      "<img src=\"images/DockerHub.png\" width=\"400px\">"
     ]
    },
    {
     "cell_type": "markdown",
     "metadata": {
      "internals": {
       "frag_helper": "fragment_end",
       "frag_number": 27,
       "slide_type": "subslide"
      },
      "slideshow": {
       "slide_type": "slide"
      }
     },
     "source": [
      "###Installing\n",
      "\n",
      "Here's what you need:\n",
      "\n",
      "- Linux kernel with control groups and namespaces\n",
      "- Support for a layered filesystem (like AUFS)\n",
      "- Docker Daemon / Server (written in Go)\n",
      "\n",
      "<img src=\"images/MasonJar.jpg\" width=\"600px\">"
     ]
    },
    {
     "cell_type": "markdown",
     "metadata": {
      "internals": {
       "frag_helper": "fragment_end",
       "frag_number": 27
      },
      "slideshow": {
       "slide_type": "skip"
      }
     },
     "source": [
      "####Linux\n",
      "\n",
      "- Ubuntu 14.04 *or*\n",
      "- See [Docker installation instructions](http://docs.docker.com/installation/) for distributions with Kernel 3.8 + later *or*\n",
      "- [Kernel configuration instructions](https://wiki.gentoo.org/wiki/LXC)"
     ]
    },
    {
     "cell_type": "markdown",
     "metadata": {
      "internals": {
       "frag_helper": "fragment_end",
       "frag_number": 27,
       "slide_helper": "subslide_end"
      },
      "slide_helper": "slide_end",
      "slideshow": {
       "slide_type": "skip"
      }
     },
     "source": [
      "####Windows and Mac\n",
      "\n",
      "[boot2docker](http://boot2docker.io/)\n",
      "\n",
      "* easy install of\n",
      "  - Git Bash\n",
      "  - VirtualBox\n",
      "  - Lightweight Linux distribution\n",
      "  - Docker\n",
      "\n",
      "* Works, but adds layer of complexity\n",
      "* Mac native interface improving\n",
      "* Comes with busybox shell -> Write your Docker build.sh and run.sh in Bourne shell"
     ]
    },
    {
     "cell_type": "markdown",
     "metadata": {
      "internals": {
       "frag_helper": "fragment_end",
       "frag_number": 27,
       "slide_helper": "subslide_end",
       "slide_type": "subslide"
      },
      "slide_helper": "subslide_end",
      "slideshow": {
       "slide_type": "slide"
      }
     },
     "source": [
      "# Docker Concepts"
     ]
    },
    {
     "cell_type": "markdown",
     "metadata": {
      "internals": {
       "frag_helper": "fragment_end",
       "frag_number": 27,
       "slide_type": "subslide"
      },
      "slideshow": {
       "slide_type": "subslide"
      }
     },
     "source": [
      "##Image\n",
      " \n",
      "###A read-only file system layer"
     ]
    },
    {
     "cell_type": "markdown",
     "metadata": {
      "internals": {
       "frag_helper": "fragment_end",
       "frag_number": 33,
       "slide_helper": "subslide_end"
      },
      "slide_helper": "subslide_end",
      "slideshow": {
       "slide_type": "fragment"
      }
     },
     "source": [
      "<img src=\"images/DockerFilesystemsBusybox.png\" width=\"600px\">"
     ]
    },
    {
     "cell_type": "code",
     "collapsed": true,
     "input": [
      "!docker images"
     ],
     "language": "python",
     "metadata": {
      "internals": {
       "frag_helper": "fragment_end",
       "frag_number": 33,
       "slide_helper": "subslide_end",
       "slide_type": "subslide"
      },
      "slide_helper": "subslide_end",
      "slideshow": {
       "slide_type": "subslide"
      }
     },
     "outputs": [
      {
       "output_type": "stream",
       "stream": "stdout",
       "text": [
        "REPOSITORY             TAG                 IMAGE ID            CREATED             VIRTUAL SIZE\r\n",
        "busybox                buildroot-2014.02   8c2e06607696        11 weeks ago        2.433 MB\r\n",
        "busybox                latest              8c2e06607696        11 weeks ago        2.433 MB\r\n",
        "odise/busybox-python   latest              649988b8bf0e        4 months ago        20.26 MB\r\n"
       ]
      }
     ],
     "prompt_number": 3
    },
    {
     "cell_type": "markdown",
     "metadata": {
      "internals": {
       "frag_helper": "fragment_end",
       "frag_number": 33,
       "slide_type": "subslide"
      },
      "slideshow": {
       "slide_type": "subslide"
      }
     },
     "source": [
      "##Container\n",
      "\n",
      "###An modifiable image with processes running in memory, or an exited container with a modified filesystem"
     ]
    },
    {
     "cell_type": "markdown",
     "metadata": {
      "internals": {
       "frag_helper": "fragment_end",
       "frag_number": 36,
       "slide_helper": "subslide_end"
      },
      "slide_helper": "subslide_end",
      "slideshow": {
       "slide_type": "fragment"
      }
     },
     "source": [
      "<img src=\"images/DockerFilesystemsBusybox.png\" width=\"600px\">"
     ]
    },
    {
     "cell_type": "code",
     "collapsed": true,
     "input": [
      "!docker ps"
     ],
     "language": "python",
     "metadata": {
      "internals": {
       "frag_helper": "fragment_end",
       "frag_number": 36,
       "slide_type": "subslide"
      },
      "slideshow": {
       "slide_type": "subslide"
      }
     },
     "outputs": [
      {
       "output_type": "stream",
       "stream": "stdout",
       "text": [
        "CONTAINER ID        IMAGE               COMMAND             CREATED             STATUS              PORTS               NAMES\r\n"
       ]
      }
     ],
     "prompt_number": 4
    },
    {
     "cell_type": "code",
     "collapsed": true,
     "input": [
      "!docker run -d busybox sh -c 'sleep 3'"
     ],
     "language": "python",
     "metadata": {
      "internals": {
       "frag_helper": "fragment_end",
       "frag_number": 38
      },
      "slideshow": {
       "slide_type": "fragment"
      }
     },
     "outputs": [
      {
       "output_type": "stream",
       "stream": "stdout",
       "text": [
        "3a6bf9d61548ae36bdc0bdb5a87aec17a8056517709c61e2df989aa0a37b7f32\r\n"
       ]
      }
     ],
     "prompt_number": 5
    },
    {
     "cell_type": "code",
     "collapsed": true,
     "input": [
      "!docker ps"
     ],
     "language": "python",
     "metadata": {
      "internals": {
       "frag_helper": "fragment_end",
       "frag_number": 39
      },
      "slideshow": {
       "slide_type": "fragment"
      }
     },
     "outputs": [
      {
       "output_type": "stream",
       "stream": "stdout",
       "text": [
        "CONTAINER ID        IMAGE               COMMAND             CREATED             STATUS              PORTS               NAMES\r\n"
       ]
      }
     ],
     "prompt_number": 7
    },
    {
     "cell_type": "code",
     "collapsed": true,
     "input": [
      "!docker ps -a"
     ],
     "language": "python",
     "metadata": {
      "internals": {
       "frag_helper": "fragment_end",
       "frag_number": 40,
       "slide_helper": "subslide_end"
      },
      "slide_helper": "subslide_end",
      "slideshow": {
       "slide_type": "fragment"
      }
     },
     "outputs": [
      {
       "output_type": "stream",
       "stream": "stdout",
       "text": [
        "CONTAINER ID        IMAGE                       COMMAND             CREATED             STATUS                      PORTS               NAMES\r\n",
        "3a6bf9d61548        busybox:buildroot-2014.02   \"sh -c 'sleep 3'\"   14 seconds ago      Exited (0) 11 seconds ago                       goofy_almeida       \r\n",
        "a3761241bf97        busybox:buildroot-2014.02   \"sh -c 'sleep 3'\"   53 minutes ago      Exited (0) 53 minutes ago                       reverent_stallman   \r\n"
       ]
      }
     ],
     "prompt_number": 8
    },
    {
     "cell_type": "markdown",
     "metadata": {
      "internals": {
       "frag_helper": "fragment_end",
       "frag_number": 40,
       "slide_type": "subslide"
      },
      "slideshow": {
       "slide_type": "subslide"
      }
     },
     "source": [
      "##Volume\n",
      "\n",
      "###A mounted directory that is not tracked as a filesystem layer\n",
      "\n",
      "* Data volumes are initialized when a container is created\n",
      "* Volumes can be shared and reused between containers\n",
      "* Changes to a data volume are made directly\n",
      "* Changes to a data volume will not be included when you update an image\n",
      "* Volume persist until no containers use them\n",
      "* Host directories can also be mounted as data volumes"
     ]
    },
    {
     "cell_type": "code",
     "collapsed": true,
     "input": [
      "!ls $PWD/images/"
     ],
     "language": "python",
     "metadata": {
      "internals": {
       "frag_helper": "fragment_end",
       "frag_number": 40
      },
      "slideshow": {
       "slide_type": "-"
      }
     },
     "outputs": [
      {
       "output_type": "stream",
       "stream": "stdout",
       "text": [
        "BackwardsCompatibility.png    DockerVM.jpg\r\n",
        "BuildInstructions1.png\t      Eww.jpg\r\n",
        "BuildInstructions2.png\t      FilesystemsGeneric.png\r\n",
        "BuildInstructions3.png\t      itkka.png\r\n",
        "BuildInstructions4.png\t      Jenkins.png\r\n",
        "CarJam.jpg\t\t      Jupyter.png\r\n",
        "Chroot.png\t\t      LayerCake.jpg\r\n",
        "ConfusedCat.jpg\t\t      Liar.png\r\n",
        "Debian.png\t\t      MakerwareScreenshot.png\r\n",
        "DockerDeploy.jpg\t      MakerwareVTK.png\r\n",
        "DockerFilesystemsBusybox.png  MakerwareWebsite.png\r\n",
        "DockerFilesystems.svg\t      MasonJar.jpg\r\n",
        "DockerHub.png\t\t      ModulesModulesModules.png\r\n",
        "DockerLogo.png\t\t      PythonStoryline.svg\r\n"
       ]
      }
     ],
     "prompt_number": 10
    },
    {
     "cell_type": "code",
     "collapsed": true,
     "input": [
      "!docker run --rm --volume $PWD/images:/images busybox \\\n",
      "    sh -c 'ls /images'"
     ],
     "language": "python",
     "metadata": {
      "internals": {
       "frag_helper": "fragment_end",
       "frag_number": 40
      },
      "slideshow": {
       "slide_type": "-"
      }
     },
     "outputs": [
      {
       "output_type": "stream",
       "stream": "stdout",
       "text": [
        "BackwardsCompatibility.png\r\n",
        "BuildInstructions1.png\r\n",
        "BuildInstructions2.png\r\n",
        "BuildInstructions3.png\r\n",
        "BuildInstructions4.png\r\n",
        "CarJam.jpg\r\n",
        "Chroot.png\r\n",
        "ConfusedCat.jpg\r\n",
        "Debian.png\r\n",
        "DockerDeploy.jpg\r\n",
        "DockerFilesystems.svg\r\n",
        "DockerFilesystemsBusybox.png\r\n",
        "DockerHub.png\r\n",
        "DockerLogo.png\r\n",
        "DockerVM.jpg\r\n",
        "Eww.jpg\r\n",
        "FilesystemsGeneric.png\r\n",
        "Jenkins.png\r\n",
        "Jupyter.png\r\n",
        "LayerCake.jpg\r\n",
        "Liar.png\r\n",
        "MakerwareScreenshot.png\r\n",
        "MakerwareVTK.png\r\n",
        "MakerwareWebsite.png\r\n",
        "MasonJar.jpg\r\n",
        "ModulesModulesModules.png\r\n",
        "PythonStoryline.svg\r\n",
        "itkka.png\r\n"
       ]
      }
     ],
     "prompt_number": 11
    },
    {
     "cell_type": "markdown",
     "metadata": {
      "internals": {
       "frag_helper": "fragment_end",
       "frag_number": 40
      },
      "slideshow": {
       "slide_type": "skip"
      }
     },
     "source": [
      "##Dockerfile\n",
      "\n",
      "###A sequence of instructions to generate a Docker image"
     ]
    },
    {
     "cell_type": "code",
     "collapsed": false,
     "input": [
      "%%writefile docker-ls-images/Dockerfile\n",
      "\n",
      "# Best practice for Dockerfile's:\n",
      "#   specify exact versions whenever possible.\n",
      "FROM busybox:4986bf8c1536\n",
      "MAINTAINER Matt McCormick <matt.mccormick@kitware.com>\n",
      "RUN mkdir -p /images\n",
      "VOLUME /images\n",
      "CMD [\"/bin/sh\", \"-c\", \"ls /images\"]"
     ],
     "language": "python",
     "metadata": {
      "internals": {
       "frag_helper": "fragment_end",
       "frag_number": 40
      },
      "slideshow": {
       "slide_type": "skip"
      }
     },
     "outputs": [
      {
       "output_type": "stream",
       "stream": "stdout",
       "text": [
        "Overwriting docker-ls-images/Dockerfile\n"
       ]
      }
     ],
     "prompt_number": 8
    },
    {
     "cell_type": "code",
     "collapsed": false,
     "input": [
      "!docker build -t ls-images ./docker-ls-images"
     ],
     "language": "python",
     "metadata": {
      "internals": {
       "frag_helper": "fragment_end",
       "frag_number": 40
      },
      "slideshow": {
       "slide_type": "skip"
      }
     },
     "outputs": []
    },
    {
     "cell_type": "code",
     "collapsed": false,
     "input": [
      "!docker run --rm -v $PWD/images:/images ls-images"
     ],
     "language": "python",
     "metadata": {
      "internals": {
       "frag_helper": "fragment_end",
       "frag_number": 40
      },
      "slideshow": {
       "slide_type": "skip"
      }
     },
     "outputs": []
    },
    {
     "cell_type": "code",
     "collapsed": false,
     "input": [
      "YouTubeVideo('QqfjiuqVrV4')"
     ],
     "language": "python",
     "metadata": {
      "internals": {
       "frag_helper": "fragment_end",
       "frag_number": 40,
       "slide_helper": "subslide_end"
      },
      "slide_helper": "slide_end",
      "slideshow": {
       "slide_type": "skip"
      }
     },
     "outputs": [
      {
       "html": [
        "\n",
        "        <iframe\n",
        "            width=\"400\"\n",
        "            height=300\"\n",
        "            src=\"https://www.youtube.com/embed/QqfjiuqVrV4\"\n",
        "            frameborder=\"0\"\n",
        "            allowfullscreen\n",
        "        ></iframe>\n",
        "        "
       ],
       "metadata": {},
       "output_type": "pyout",
       "prompt_number": 15,
       "text": [
        "<IPython.lib.display.YouTubeVideo at 0x7fe1f0a37190>"
       ]
      }
     ],
     "prompt_number": 15
    },
    {
     "cell_type": "heading",
     "level": 2,
     "metadata": {
      "internals": {
       "frag_helper": "fragment_end",
       "frag_number": 40,
       "slide_helper": "subslide_end",
       "slide_type": "subslide"
      },
      "slide_helper": "subslide_end",
      "slideshow": {
       "slide_type": "slide"
      }
     },
     "source": [
      "Scientific Python with Docker"
     ]
    },
    {
     "cell_type": "markdown",
     "metadata": {
      "internals": {
       "frag_helper": "fragment_end",
       "frag_number": 40,
       "slide_helper": "subslide_end",
       "slide_type": "subslide"
      },
      "slide_helper": "subslide_end",
      "slideshow": {
       "slide_type": "subslide"
      }
     },
     "source": [
      "##Graphical Applications and Docker\n",
      "\n",
      "A **portable Docker image** will only assume standard CPU/memory/disk/network resources are available. If *local USB devices* and **video card devices** are used the images will **not be runnable anywhere**.\n",
      "\n",
      "* No OpenGL\n",
      "* Use [IPython / Jupyter Notebooks](http://ipython.org/notebook.html)\n",
      "\n",
      "<img src=\"images/Jupyter.png\" width=\"500px\">"
     ]
    },
    {
     "cell_type": "markdown",
     "metadata": {
      "internals": {
       "frag_helper": "fragment_end",
       "frag_number": 40,
       "slide_type": "subslide"
      },
      "slideshow": {
       "slide_type": "subslide"
      }
     },
     "source": [
      "##Choosing a base image\n",
      "\n",
      "* [debian](https://registry.hub.docker.com/_/debian/) - [Most common](https://docs.docker.com/articles/dockerfile_best-practices/) lightweight image\n",
      "* [ipython/notebook](https://registry.hub.docker.com/u/ipython/notebook/) - Launcher SSL / password enabled IPython notebook\n",
      "* [jupyter/tmpnb](https://registry.hub.docker.com/u/jupyter/tmpnb/) - Launches \"temporary\" Jupyter notebook servers\n",
      "* [continuumio/miniconda](https://registry.hub.docker.com/u/continuumio/miniconda/) miniconda installed\n",
      "* [nixos/nix](https://registry.hub.docker.com/u/nixos/nix/) Nix package manager installed\n",
      "* ...\n",
      "* Make your own\n",
      "\n",
      "<img src=\"images/Debian.png\" width=\"100px\">"
     ]
    },
    {
     "cell_type": "markdown",
     "metadata": {
      "internals": {
       "frag_helper": "fragment_end",
       "frag_number": 40
      },
      "slideshow": {
       "slide_type": "skip"
      }
     },
     "source": [
      "**Isn't there supposed to be no OpenGL?**\n",
      "\n",
      "<img src=\"images/Liar.png\" width=\"600px\">"
     ]
    },
    {
     "cell_type": "markdown",
     "metadata": {
      "internals": {
       "frag_helper": "fragment_end",
       "frag_number": 40,
       "slide_helper": "subslide_end"
      },
      "slide_helper": "slide_end",
      "slideshow": {
       "slide_type": "skip"
      }
     },
     "source": [
      "It is possible to run accelerated X11 OpenGL 3D applications, but the Docker images that are built will **only work** on host systems with the same video driver and compatible video card.\n",
      "\n",
      "See the [docker-opengl-nvidia](https://github.com/thewtex/docker-opengl-nvidia) and the [docker-opengl-mesa](https://github.com/thewtex/docker-opengl-mesa) repositories."
     ]
    },
    {
     "cell_type": "markdown",
     "metadata": {
      "internals": {
       "frag_helper": "fragment_end",
       "frag_number": 40,
       "slide_helper": "subslide_end",
       "slide_type": "subslide"
      },
      "slide_helper": "subslide_end",
      "slideshow": {
       "slide_type": "slide"
      }
     },
     "source": [
      "# Recap and Next Steps"
     ]
    },
    {
     "cell_type": "markdown",
     "metadata": {
      "internals": {
       "frag_helper": "fragment_end",
       "frag_number": 40,
       "slide_type": "subslide"
      },
      "slideshow": {
       "slide_type": "subslide"
      }
     },
     "source": [
      "## Docker is\n"
     ]
    },
    {
     "cell_type": "markdown",
     "metadata": {
      "internals": {
       "frag_helper": "fragment_end",
       "frag_number": 56
      },
      "slideshow": {
       "slide_type": "fragment"
      }
     },
     "source": [
      "* Sandboxed chroot +"
     ]
    },
    {
     "cell_type": "markdown",
     "metadata": {
      "internals": {
       "frag_helper": "fragment_end",
       "frag_number": 57
      },
      "slideshow": {
       "slide_type": "fragment"
      }
     },
     "source": [
      "* Incremental, copy on write filesystem +"
     ]
    },
    {
     "cell_type": "markdown",
     "metadata": {
      "internals": {
       "frag_helper": "fragment_end",
       "frag_number": 58,
       "slide_helper": "subslide_end"
      },
      "slide_helper": "subslide_end",
      "slideshow": {
       "slide_type": "fragment"
      }
     },
     "source": [
      "* Distributed VCS for binaries +"
     ]
    },
    {
     "cell_type": "markdown",
     "metadata": {
      "internals": {
       "frag_helper": "fragment_end",
       "frag_number": 58,
       "slide_type": "subslide"
      },
      "slideshow": {
       "slide_type": "subslide"
      }
     },
     "source": [
      "## Concepts"
     ]
    },
    {
     "cell_type": "markdown",
     "metadata": {
      "internals": {
       "frag_helper": "fragment_end",
       "frag_number": 60
      },
      "slideshow": {
       "slide_type": "fragment"
      }
     },
     "source": [
      "* *Image*:  A read-only file system layer"
     ]
    },
    {
     "cell_type": "markdown",
     "metadata": {
      "internals": {
       "frag_helper": "fragment_end",
       "frag_number": 61
      },
      "slideshow": {
       "slide_type": "fragment"
      }
     },
     "source": [
      "* *Container*: A writable image with processes running in memory, or an exited container with a modified filesystem"
     ]
    },
    {
     "cell_type": "markdown",
     "metadata": {
      "internals": {
       "frag_helper": "fragment_end",
       "frag_number": 62
      },
      "slideshow": {
       "slide_type": "fragment"
      }
     },
     "source": [
      "* *Volume*: A mounted directory that is not tracked as a filesystem layer"
     ]
    },
    {
     "cell_type": "markdown",
     "metadata": {
      "internals": {
       "frag_helper": "fragment_end",
       "frag_number": 62,
       "slide_helper": "subslide_end"
      },
      "slide_helper": "subslide_end",
      "slideshow": {
       "slide_type": "skip"
      }
     },
     "source": [
      "* *Dockerfile*: A sequence of instructions to generate a Docker image"
     ]
    },
    {
     "cell_type": "markdown",
     "metadata": {
      "internals": {
       "frag_helper": "fragment_end",
       "frag_number": 62,
       "slide_type": "subslide"
      },
      "slideshow": {
       "slide_type": "subslide"
      }
     },
     "source": [
      "## Scientific Python and Docker"
     ]
    },
    {
     "cell_type": "markdown",
     "metadata": {
      "internals": {
       "frag_helper": "fragment_end",
       "frag_number": 65
      },
      "slideshow": {
       "slide_type": "fragment"
      }
     },
     "source": [
      "* Not for graphical applications, especially OpenGL "
     ]
    },
    {
     "cell_type": "markdown",
     "metadata": {
      "internals": {
       "frag_helper": "fragment_end",
       "frag_number": 66
      },
      "slideshow": {
       "slide_type": "fragment"
      }
     },
     "source": [
      "* Reproducible computational environment for IPython notebook"
     ]
    },
    {
     "cell_type": "markdown",
     "metadata": {
      "internals": {
       "frag_helper": "fragment_end",
       "frag_number": 67,
       "slide_helper": "subslide_end"
      },
      "slide_helper": "subslide_end",
      "slideshow": {
       "slide_type": "fragment"
      }
     },
     "source": [
      "* Use with Linux-based packaging system of your choice"
     ]
    },
    {
     "cell_type": "heading",
     "level": 2,
     "metadata": {
      "internals": {
       "frag_helper": "fragment_end",
       "frag_number": 67,
       "slide_type": "subslide"
      },
      "slideshow": {
       "slide_type": "subslide"
      }
     },
     "source": [
      "Learn more!"
     ]
    },
    {
     "cell_type": "markdown",
     "metadata": {
      "internals": {
       "frag_helper": "fragment_end",
       "frag_number": 69,
       "slide_helper": "subslide_end"
      },
      "slide_helper": "subslide_end",
      "slideshow": {
       "slide_type": "fragment"
      }
     },
     "source": [
      "* [Interactive Brower-Based Docker Tutorial](https://www.docker.com/tryit/)\n",
      "* [Docker Documentation](https://docs.docker.com/userguide/)\n",
      "* [Reproducible Research: Walking the Walk Tutorial](https://reproducible-research.github.io/scipy-tutorial-2014/)\n",
      "* [IPython DockerHub Repositories](https://registry.hub.docker.com/repos/ipython/)"
     ]
    },
    {
     "cell_type": "markdown",
     "metadata": {
      "internals": {
       "frag_helper": "fragment_end",
       "frag_number": 69,
       "slide_helper": "subslide_end",
       "slide_type": "subslide"
      },
      "slide_helper": "subslide_end",
      "slideshow": {
       "slide_type": "subslide"
      }
     },
     "source": [
      "##Docker vs. LXC\n",
      "\n",
      "* [LXC](https://linuxcontainers.org/) is a set of tools and API to interact with Linux kernel namespaces, cgroups, etc.\n",
      "* LXC used to be the default execution enviroment for Docker\n",
      "* Docker provides LXC function, plus:\n",
      "  - Portable deployment across machines\n",
      "  - Application-centric\n",
      "  - Automatic builds\n",
      "  - Versioning\n",
      "  - Component re-use\n",
      "  - Sharing\n",
      "  - Tool echosystem"
     ]
    },
    {
     "cell_type": "markdown",
     "metadata": {
      "internals": {
       "frag_helper": "fragment_end",
       "frag_number": 69,
       "slide_helper": "subslide_end",
       "slide_type": "subslide"
      },
      "slide_helper": "slide_end",
      "slideshow": {
       "slide_type": "subslide"
      }
     },
     "source": [
      "##Docker vs Rocket\n",
      "\n",
      "- [Rocket](https://github.com/coreos/rocket) is a container system like Docker developed by CoreOS\n",
      "- Rocket is not yet fully operational\n",
      "- Rocket does not use a daemon/client system"
     ]
    }
   ],
   "metadata": {}
  }
 ]
}